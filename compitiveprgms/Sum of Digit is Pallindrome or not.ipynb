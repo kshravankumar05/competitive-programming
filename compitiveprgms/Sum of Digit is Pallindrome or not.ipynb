{
 "cells": [
  {
   "cell_type": "code",
   "execution_count": null,
   "metadata": {},
   "outputs": [],
   "source": [
    "for _ in range(int(input())):\n",
    "    n = list(map(int, input()))\n",
    "    n = str(sum(n))\n",
    "    if n[:] == n[::-1]:\n",
    "        print(\"YES\")\n",
    "    else:\n",
    "        print(\"NO\")\n"
   ]
  },
  {
   "cell_type": "code",
   "execution_count": null,
   "metadata": {},
   "outputs": [],
   "source": [
    "for _ in range(int(input())):\n",
    "    n = list(map(int, input()))\n",
    "    n = str(sum(n))\n",
    "    if n[:] == n[::-1]:\n",
    "        print(\"YES\")\n",
    "    else:\n",
    "        print(\"NO\")"
   ]
  },
  {
   "cell_type": "code",
   "execution_count": null,
   "metadata": {},
   "outputs": [],
   "source": [
    "for _ in range(int(input())):\n",
    "    n = list(map(int, input()))\n",
    "    n = str(sum(n))\n",
    "    if n[:] == n[::-1]:\n",
    "        print(\"YES\")\n",
    "    else:\n",
    "        print(\"NO\")"
   ]
  },
  {
   "cell_type": "code",
   "execution_count": null,
   "metadata": {},
   "outputs": [],
   "source": [
    "for i in range(t):\n",
    "    s=str(input())\n",
    "    a1=0\n",
    "    for i in s:\n",
    "        a1=a1+int(i)\n",
    "    a1=str(a1)\n",
    "    if a1==a1[::-1]:\n",
    "        print(\"YES\")\n",
    "    else:\n",
    "        print(\"NO\")"
   ]
  },
  {
   "cell_type": "code",
   "execution_count": null,
   "metadata": {},
   "outputs": [],
   "source": [
    "for _ in range(int(input())):\n",
    "    num = input()\n",
    "    digit_sum = 0\n",
    "    for n in num:\n",
    "        digit_sum += int(n)\n",
    "    digit_sum = str(digit_sum)\n",
    "    if len(digit_sum) == 1:\n",
    "        print(\"YES\")\n",
    "    else:\n",
    "        left = digit_sum[:len(digit_sum)//2]\n",
    "        right = digit_sum[len(digit_sum)//2:]\n",
    "        if left == right:\n",
    "            print(\"YES\")\n",
    "        else:\n",
    "            print(\"NO\")"
   ]
  }
 ],
 "metadata": {
  "kernelspec": {
   "display_name": "Python 3",
   "language": "python",
   "name": "python3"
  },
  "language_info": {
   "codemirror_mode": {
    "name": "ipython",
    "version": 3
   },
   "file_extension": ".py",
   "mimetype": "text/x-python",
   "name": "python",
   "nbconvert_exporter": "python",
   "pygments_lexer": "ipython3",
   "version": "3.7.6"
  }
 },
 "nbformat": 4,
 "nbformat_minor": 4
}
