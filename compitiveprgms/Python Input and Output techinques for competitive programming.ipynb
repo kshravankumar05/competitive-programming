{
 "cells": [
  {
   "cell_type": "code",
   "execution_count": 13,
   "metadata": {},
   "outputs": [
    {
     "name": "stdout",
     "output_type": "stream",
     "text": [
      "1 2 4\n",
      "7\n"
     ]
    }
   ],
   "source": [
    "# a b c \n",
    "# 1 2 3\n",
    "\n",
    "a,b,c = map(int,input().split())#for fixed number of variables\n",
    "print(a+b+c)"
   ]
  },
  {
   "cell_type": "code",
   "execution_count": 14,
   "metadata": {},
   "outputs": [
    {
     "name": "stdout",
     "output_type": "stream",
     "text": [
      "1 2 3 4 \n",
      "[1, 2, 3, 4]\n"
     ]
    }
   ],
   "source": [
    "# a b c d\n",
    "# 1 2 3 4\n",
    "all = [int(i) for i in input().split()]# for n number of varibales\n",
    "print(all)"
   ]
  },
  {
   "cell_type": "code",
   "execution_count": null,
   "metadata": {},
   "outputs": [],
   "source": [
    "# 5 input size no of elements\n",
    "# 1 2 3 4 5\n",
    "n = int(input())\n",
    "all =[int(i) for i in input().split()]\n",
    "print(all)"
   ]
  },
  {
   "cell_type": "code",
   "execution_count": 2,
   "metadata": {},
   "outputs": [
    {
     "name": "stdout",
     "output_type": "stream",
     "text": [
      " 3\n",
      "2\n",
      "3\n",
      "4\n"
     ]
    }
   ],
   "source": [
    "# 3 size\n",
    "# 1 new line\n",
    "# 2 \n",
    "# 3\n",
    "n = int(input())\n",
    "for i in range(n):\n",
    "    tc = int(input())"
   ]
  },
  {
   "cell_type": "code",
   "execution_count": 3,
   "metadata": {},
   "outputs": [
    {
     "data": {
      "text/plain": [
       "'\\n2 two questins\\n3 first is contians 3 elements\\n1 2 3 \\n4 second is contians 4 elements\\n1 2 3 4\\n'"
      ]
     },
     "execution_count": 3,
     "metadata": {},
     "output_type": "execute_result"
    }
   ],
   "source": [
    "'''\n",
    "2 two questins\n",
    "3 first is contians 3 elements\n",
    "1 2 3 \n",
    "4 second is contians 4 elements\n",
    "1 2 3 4\n",
    "'''\n"
   ]
  },
  {
   "cell_type": "code",
   "execution_count": null,
   "metadata": {},
   "outputs": [
    {
     "name": "stdout",
     "output_type": "stream",
     "text": [
      "3\n",
      "1 2 3\n",
      "1 2 3 4\n"
     ]
    }
   ],
   "source": [
    "q = int(input())\n",
    "for i in range(q):\n",
    "    n = int(input())\n",
    "    all =[int(i) for i in input().split()]\n",
    "    \n",
    "    "
   ]
  },
  {
   "cell_type": "code",
   "execution_count": null,
   "metadata": {},
   "outputs": [],
   "source": [
    "# 2 question without input size\n",
    "'''\n",
    "2 two questins\n",
    "\n",
    "1 2 3 \n",
    "1 2 3 4\n",
    "'''\n"
   ]
  },
  {
   "cell_type": "code",
   "execution_count": null,
   "metadata": {},
   "outputs": [],
   "source": [
    "q = int(input())\n",
    "for i in range(q):\n",
    "    #n = int(input())\n",
    "    all =[int(i) for i in input().split()]\n",
    "    \n",
    "    \n",
    "    "
   ]
  },
  {
   "cell_type": "code",
   "execution_count": null,
   "metadata": {},
   "outputs": [],
   "source": [
    "Input:\n",
    "2\n",
    "20 30\n",
    "12 32\n",
    "\n",
    "Output:\n",
    "30 20\n",
    "32 12"
   ]
  },
  {
   "cell_type": "code",
   "execution_count": null,
   "metadata": {},
   "outputs": [],
   "source": [
    "#method1:\n",
    "t=int(input())\n",
    "for i in range(t):\n",
    "    a,b=map(int,input().split())#fixed variable\n",
    "    print(b,a)"
   ]
  },
  {
   "cell_type": "code",
   "execution_count": null,
   "metadata": {},
   "outputs": [],
   "source": [
    "#method2\n",
    "test_cases = int(input())\n",
    "\n",
    "while(test_cases):\n",
    "    test_cases -= 1\n",
    "    a, b = map(int, input().split())\n",
    "    a, b = b, a\n",
    "    print(a, b)"
   ]
  }
 ],
 "metadata": {
  "kernelspec": {
   "display_name": "Python 3",
   "language": "python",
   "name": "python3"
  }
 },
 "nbformat": 4,
 "nbformat_minor": 4
}
