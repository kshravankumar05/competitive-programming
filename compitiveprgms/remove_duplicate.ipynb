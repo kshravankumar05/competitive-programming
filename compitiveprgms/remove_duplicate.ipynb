{
 "cells": [
  {
   "cell_type": "code",
   "execution_count": 29,
   "metadata": {},
   "outputs": [
    {
     "name": "stdout",
     "output_type": "stream",
     "text": [
      "kshravnum\n"
     ]
    }
   ],
   "source": [
    "def removeDuplicate(str, n): \n",
    "      \n",
    "    # Used as index in the modified string \n",
    "    index = 0\n",
    "      \n",
    "    # Traverse through all characters \n",
    "    for i in range(0, n): \n",
    "          \n",
    "        # Check if str[i] is present before it  \n",
    "        for j in range(0, i + 1): \n",
    "            if (str[i] == str[j]): \n",
    "                break\n",
    "                  \n",
    "        # If not present, then add it to \n",
    "        # result. \n",
    "        if (j == i): \n",
    "            str[index] = str[i] \n",
    "            index += 1\n",
    "              \n",
    "    return \"\".join(str[:index]) \n",
    "  \n",
    "# Driver code \n",
    "str= \"kshravankshravankshravankumar\"\n",
    "n = len(str) \n",
    "print(removeDuplicate(list(str), n)) \n",
    "  "
   ]
  },
  {
   "cell_type": "code",
   "execution_count": 26,
   "metadata": {},
   "outputs": [
    {
     "name": "stdout",
     "output_type": "stream",
     "text": [
      "enter the number5\n",
      "Area is %.6f 78.55\n"
     ]
    }
   ],
   "source": []
  },
  {
   "cell_type": "markdown",
   "metadata": {},
   "source": []
  },
  {
   "cell_type": "code",
   "execution_count": null,
   "metadata": {},
   "outputs": [],
   "source": []
  }
 ],
 "metadata": {
  "kernelspec": {
   "display_name": "Python 3",
   "language": "python",
   "name": "python3"
  },
  "language_info": {
   "codemirror_mode": {
    "name": "ipython",
    "version": 3
   },
   "file_extension": ".py",
   "mimetype": "text/x-python",
   "name": "python",
   "nbconvert_exporter": "python",
   "pygments_lexer": "ipython3",
   "version": "3.7.6"
  }
 },
 "nbformat": 4,
 "nbformat_minor": 4
}
